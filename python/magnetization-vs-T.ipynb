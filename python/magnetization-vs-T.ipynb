{
 "cells": [
  {
   "cell_type": "code",
   "execution_count": 5,
   "id": "binding-compatibility",
   "metadata": {},
   "outputs": [],
   "source": [
    "%config Completer.use_jedi = False\n",
    "\n",
    "from parallel import to_run\n",
    "\n",
    "from utils import *\n",
    "import numpy as np\n",
    "from matplotlib import pyplot as plt\n",
    "import importlib\n",
    "from multiprocessing import Pool\n",
    "from tqdm.notebook import tqdm\n",
    "import pickle\n",
    "\n",
    "plt.rcParams[\"figure.facecolor\"] = \"white\"\n",
    "plt.rcParams[\"figure.dpi\"] = 72\n",
    "plt.rcParams[\"figure.figsize\"] = [12,8]\n",
    "\n",
    "from ising_model import SimulateMH\n",
    "BC = SimulateMH.BoundaryCondition"
   ]
  },
  {
   "cell_type": "code",
   "execution_count": 2,
   "id": "removable-tactics",
   "metadata": {},
   "outputs": [],
   "source": [
    "pool = Pool(8)"
   ]
  },
  {
   "cell_type": "code",
   "execution_count": 4,
   "id": "dried-shark",
   "metadata": {},
   "outputs": [],
   "source": [
    "with open(\"dumps/32x32-rangeT-rand.pkl\",\"rb\") as f:\n",
    "    results_rand = pickle.load(f)\n",
    "N=M=32"
   ]
  },
  {
   "cell_type": "raw",
   "id": "unique-interference",
   "metadata": {},
   "source": [
    "with open(\"dumps/32x32-rangeT-const.pkl\",\"rb\") as f:\n",
    "    results_rand = pickle.load(f)"
   ]
  },
  {
   "cell_type": "code",
   "execution_count": 5,
   "id": "unique-tulsa",
   "metadata": {},
   "outputs": [],
   "source": [
    "results = results_rand"
   ]
  },
  {
   "cell_type": "code",
   "execution_count": 10,
   "id": "dense-panic",
   "metadata": {},
   "outputs": [
    {
     "data": {
      "application/vnd.jupyter.widget-view+json": {
       "model_id": "07a09805d01f4c7c9fed2150537787d0",
       "version_major": 2,
       "version_minor": 0
      },
      "text/plain": [
       "HBox(children=(FloatProgress(value=0.0, max=10.0), HTML(value='')))"
      ]
     },
     "metadata": {},
     "output_type": "display_data"
    },
    {
     "name": "stdout",
     "output_type": "stream",
     "text": [
      "\n"
     ]
    }
   ],
   "source": [
    "scale = 200\n",
    "times = 10\n",
    "\n",
    "# Ts = np.concatenate([\n",
    "#     np.linspace(0,1.8,scale),\n",
    "#     np.linspace(1.8,3.5,5*scale),\n",
    "#     np.linspace(3.5,6,scale),\n",
    "# ])\n",
    "\n",
    "Ts = np.linspace(0,4.5,scale*times).reshape((times, scale))\n",
    "\n",
    "results = []\n",
    "for Ts1 in tqdm(Ts):\n",
    "    runs = len(Ts1)\n",
    "    res = pool.starmap(to_run, \n",
    "            zip(*(np.arange(runs),\n",
    "                      [1_000_000]*runs, # steps\n",
    "                      Ts1, # temperature\n",
    "                      [32]*runs, # lattice size\n",
    "                      [32]*runs, # lattice size\n",
    "                      [100]*runs, # frequency\n",
    "                      np.random.randint(0,1000000, runs), # seed\n",
    "                      [BC.Periodic]*runs, # bc\n",
    "                    [False]*runs, # return_engine\n",
    "                    [\"random\"]*runs, # init\n",
    "                  [0]*runs # H field\n",
    "                      )),\n",
    "            chunksize=10\n",
    "        )\n",
    "    results+= res"
   ]
  },
  {
   "cell_type": "code",
   "execution_count": 11,
   "id": "caroline-hammer",
   "metadata": {},
   "outputs": [],
   "source": [
    "meanMs = []\n",
    "errMs = []\n",
    "lastMs = []\n",
    "Ts = []\n",
    "freq = 100\n",
    "for i,(T,_,Ms, Es) in enumerate(results):    \n",
    "    mean, err = mean_with_err(Ms[-Ms.shape[0]//3:])\n",
    "    meanMs.append(mean)\n",
    "    lastMs.append(np.mean(Ms[-100:]))\n",
    "    \n",
    "    errMs.append(err)\n",
    "    Ts.append(T)\n",
    "\n",
    "Ts, meanMs, errMs, lastMs = arrayify(Ts, meanMs, errMs, lastMs)"
   ]
  },
  {
   "cell_type": "raw",
   "id": "signal-olive",
   "metadata": {},
   "source": [
    "with open(\"32x32-rangeMT-rand.pkl\", \"wb\") as f:\n",
    "    pickle.dump((Ts, meanMs), f)"
   ]
  },
  {
   "cell_type": "code",
   "execution_count": 12,
   "id": "native-gregory",
   "metadata": {},
   "outputs": [],
   "source": [
    "meanMs_rand = meanMs"
   ]
  },
  {
   "cell_type": "raw",
   "id": "coastal-queue",
   "metadata": {},
   "source": [
    "# plt.errorbar(Ts, np.abs(meanMs),yerr=errMs)\n",
    "plt.scatter(Ts, (meanMs_rand), s=1, marker=\"o\", c=\"white\", edgecolors=\"k\", alpha=0.5)\n",
    "plt.scatter(Ts, (meanMs_const), s=1, marker=\"o\", c=\"white\", edgecolors=\"blue\", alpha=0.5)\n",
    "\n",
    "plt.minorticks_on()\n",
    "plt.grid(which=\"both\")\n",
    "# for t, m in zip(Ts, np.abs(meanMs)):\n",
    "#     plt.gca().annotate(f'{t:0.2f}', (t,m))"
   ]
  },
  {
   "cell_type": "code",
   "execution_count": 13,
   "id": "sapphire-carol",
   "metadata": {},
   "outputs": [
    {
     "data": {
      "image/png": "[encoded data removed]",
      "text/plain": [
       "<Figure size 864x576 with 1 Axes>"
      ]
     },
     "metadata": {},
     "output_type": "display_data"
    }
   ],
   "source": [
    "# plt.errorbar(Ts, np.abs(meanMs),yerr=errMs)\n",
    "plt.scatter(Ts, (meanMs), s=1, marker=\"o\", c=\"white\", edgecolors=\"blue\", alpha=0.5)\n",
    "plt.minorticks_on()\n",
    "# plt.grid(which=\"both\")\n",
    "# for t, m in zip(Ts, np.abs(meanMs)):\n",
    "#     plt.gca().annotate(f'{t:0.2f}', (t,m))"
   ]
  },
  {
   "cell_type": "code",
   "execution_count": 33,
   "id": "naval-fabric",
   "metadata": {},
   "outputs": [
    {
     "data": {
      "text/plain": [
       "10000"
      ]
     },
     "execution_count": 33,
     "metadata": {},
     "output_type": "execute_result"
    }
   ],
   "source": [
    "len(results[0][3])"
   ]
  },
  {
   "cell_type": "code",
   "execution_count": 15,
   "id": "together-indiana",
   "metadata": {},
   "outputs": [
    {
     "name": "stdout",
     "output_type": "stream",
     "text": [
      "341 363\n"
     ]
    }
   ],
   "source": [
    "print(len(meanMs[meanMs<-900]), len(meanMs[meanMs>+900]))"
   ]
  },
  {
   "cell_type": "code",
   "execution_count": 25,
   "id": "flexible-california",
   "metadata": {
    "scrolled": false
   },
   "outputs": [
    {
     "data": {
      "image/png": "[encoded data removed]",
      "text/plain": [
       "<Figure size 864x576 with 1 Axes>"
      ]
     },
     "metadata": {},
     "output_type": "display_data"
    }
   ],
   "source": [
    "T1 = 1\n",
    "dT = 0.1\n",
    "plt.figure()\n",
    "plt.hist(meanMs[(T1-dT < Ts) & (T1+dT > Ts)], bins=30);"
   ]
  },
  {
   "cell_type": "raw",
   "id": "closed-amino",
   "metadata": {},
   "source": [
    "with open(\"dumps/32x32-rangeT-rand.pkl\",\"wb\") as f:\n",
    "    pickle.dump(results, f)"
   ]
  },
  {
   "cell_type": "raw",
   "id": "cognitive-mirror",
   "metadata": {},
   "source": [
    "with open(\"dumps/32x32-rangeT-const.pkl\",\"wb\") as f:\n",
    "    pickle.dump(results, f)"
   ]
  },
  {
   "cell_type": "code",
   "execution_count": null,
   "id": "quick-drama",
   "metadata": {},
   "outputs": [],
   "source": []
  }
 ],
 "metadata": {
  "kernelspec": {
   "display_name": "Python 3",
   "language": "python",
   "name": "python3"
  },
  "language_info": {
   "codemirror_mode": {
    "name": "ipython",
    "version": 3
   },
   "file_extension": ".py",
   "mimetype": "text/x-python",
   "name": "python",
   "nbconvert_exporter": "python",
   "pygments_lexer": "ipython3",
   "version": "3.8.3"
  }
 },
 "nbformat": 4,
 "nbformat_minor": 5
}
