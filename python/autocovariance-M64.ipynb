{
 "cells": [
  {
   "cell_type": "code",
   "execution_count": 1,
   "metadata": {},
   "outputs": [],
   "source": [
    "%config Completer.use_jedi = False\n",
    "\n",
    "from utils import *\n",
    "from parallel import to_run, findpos, find_relaxation, do_find_decorrelation_time\n",
    "\n",
    "import numpy as np\n",
    "import pandas as pd\n",
    "import pickle\n",
    "from matplotlib import pyplot as plt\n",
    "import importlib\n",
    "from multiprocessing import Pool\n",
    "from tqdm.notebook import tqdm\n",
    "plt.rcParams[\"figure.facecolor\"] = \"white\"\n",
    "plt.rcParams[\"figure.dpi\"] = 72\n",
    "plt.rcParams[\"figure.figsize\"] = [12,8]\n",
    "\n",
    "from ising_model import SimulateMH"
   ]
  },
  {
   "cell_type": "raw",
   "metadata": {},
   "source": [
    "%%timeit\n",
    "_,_,Ms, Es, engine = to_run(1, 1_000_000, T=0.1, N=32, M=1, freq=1, \n",
    "                            SEED=15, return_engine=True, \n",
    "                            init=\"random\")"
   ]
  },
  {
   "cell_type": "code",
   "execution_count": 2,
   "metadata": {},
   "outputs": [],
   "source": [
    "pool = Pool(4)"
   ]
  },
  {
   "cell_type": "code",
   "execution_count": 2,
   "metadata": {},
   "outputs": [],
   "source": [
    "scale = 40*16\n",
    "Ts=np.linspace(0,4.5,scale+1)[1:]"
   ]
  },
  {
   "cell_type": "code",
   "execution_count": null,
   "metadata": {},
   "outputs": [],
   "source": [
    "results = []\n",
    "for T in tqdm(Ts):\n",
    "    res = do_find_decorrelation_time(\n",
    "        T, 64,64,10**9,10,np.random.randint(0,1000000))\n",
    "    results.append(res)"
   ]
  },
  {
   "cell_type": "code",
   "execution_count": null,
   "metadata": {},
   "outputs": [],
   "source": [
    "#results = []\n",
    "for Ts1 in tqdm(Ts[len(results):].reshape(-1,16)):\n",
    "    runs = len(Ts1)\n",
    "    res = pool.starmap(do_find_decorrelation_time, #T, N, M, steps\n",
    "            zip(*(Ts1,\n",
    "                  [64]*runs, # N\n",
    "                  [64]*runs, # M\n",
    "                  [10**9]*runs, # steps\n",
    "                  [10]*runs, # steps\n",
    "                  np.random.randint(0,1000000, runs), # seed\n",
    "                      )),\n",
    "#             chunksize=1\n",
    "        )\n",
    "    results+= res"
   ]
  },
  {
   "cell_type": "code",
   "execution_count": 5,
   "metadata": {},
   "outputs": [],
   "source": [
    "with open(\"autocor-64-9.pkl\",\"wb\") as f:\n",
    "    pickle.dump((Ts.flatten(), results), f)"
   ]
  },
  {
   "cell_type": "code",
   "execution_count": 8,
   "metadata": {},
   "outputs": [
    {
     "data": {
      "text/plain": [
       "240"
      ]
     },
     "execution_count": 8,
     "metadata": {},
     "output_type": "execute_result"
    }
   ],
   "source": [
    "len(results)"
   ]
  },
  {
   "cell_type": "code",
   "execution_count": 4,
   "metadata": {},
   "outputs": [
    {
     "data": {
      "image/png": "[encoded data removed]",
      "text/plain": [
       "<Figure size 432x288 with 1 Axes>"
      ]
     },
     "metadata": {
      "needs_background": "light"
     },
     "output_type": "display_data"
    }
   ],
   "source": [
    "plt.plot(Ts.flatten()[:len(results)], results, \"+\")\n",
    "plt.gca().set_yscale(\"log\")"
   ]
  },
  {
   "cell_type": "code",
   "execution_count": 5,
   "metadata": {},
   "outputs": [],
   "source": []
  },
  {
   "cell_type": "code",
   "execution_count": null,
   "metadata": {},
   "outputs": [],
   "source": []
  }
 ],
 "metadata": {
  "kernelspec": {
   "display_name": "Python 3",
   "language": "python",
   "name": "python3"
  },
  "language_info": {
   "codemirror_mode": {
    "name": "ipython",
    "version": 3
   },
   "file_extension": ".py",
   "mimetype": "text/x-python",
   "name": "python",
   "nbconvert_exporter": "python",
   "pygments_lexer": "ipython3",
   "version": "3.7.3"
  }
 },
 "nbformat": 4,
 "nbformat_minor": 5
}
