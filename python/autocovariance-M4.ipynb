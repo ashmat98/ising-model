{
 "cells": [
  {
   "cell_type": "code",
   "execution_count": 1,
   "id": "7a8a5b8f",
   "metadata": {},
   "outputs": [],
   "source": [
    "%config Completer.use_jedi = False\n",
    "\n",
    "from utils import *\n",
    "from parallel import to_run, findpos, find_relaxation, do_find_decorrelation_time,steps_needed_normalized\n",
    "\n",
    "import numpy as np\n",
    "import pandas as pd\n",
    "import pickle\n",
    "from matplotlib import pyplot as plt\n",
    "import importlib\n",
    "from multiprocessing import Pool\n",
    "from tqdm.notebook import tqdm\n",
    "plt.rcParams[\"figure.facecolor\"] = \"white\"\n",
    "plt.rcParams[\"figure.dpi\"] = 72\n",
    "plt.rcParams[\"figure.figsize\"] = [12,8]\n",
    "\n",
    "from ising_model import SimulateMH"
   ]
  },
  {
   "cell_type": "raw",
   "id": "720fde60",
   "metadata": {},
   "source": [
    "%%timeit\n",
    "_,_,Ms, Es, engine = to_run(1, 1_000_000, T=0.1, N=32, M=1, freq=1, \n",
    "                            SEED=15, return_engine=True, \n",
    "                            init=\"random\")"
   ]
  },
  {
   "cell_type": "code",
   "execution_count": 8,
   "id": "a431f3e1",
   "metadata": {},
   "outputs": [],
   "source": [
    "TTc = 2/np.log(1+np.sqrt(2))"
   ]
  },
  {
   "cell_type": "code",
   "execution_count": 2,
   "id": "847af779",
   "metadata": {},
   "outputs": [],
   "source": [
    "pool = Pool(32)"
   ]
  },
  {
   "cell_type": "code",
   "execution_count": 3,
   "id": "95f6b8e8",
   "metadata": {},
   "outputs": [],
   "source": [
    "scale = 40*16\n",
    "Ts=np.linspace(0,4.5,scale+1)[1:]"
   ]
  },
  {
   "cell_type": "code",
   "execution_count": null,
   "id": "04aca14b",
   "metadata": {},
   "outputs": [
    {
     "data": {
      "application/vnd.jupyter.widget-view+json": {
       "model_id": "25f3484066754caa80065566cedf372a",
       "version_major": 2,
       "version_minor": 0
      },
      "text/plain": [
       "  0%|          | 0/640 [00:00<?, ?it/s]"
      ]
     },
     "metadata": {},
     "output_type": "display_data"
    }
   ],
   "source": [
    "results = []\n",
    "for T in tqdm(Ts):\n",
    "    res = do_find_decorrelation_time(\n",
    "        T, 4,4,10**8,1,np.random.randint(0,1000000), bc=SimulateMH.BoundaryCondition.NotPoriodic)\n",
    "    results.append(res)"
   ]
  },
  {
   "cell_type": "code",
   "execution_count": 10,
   "id": "dda39a65",
   "metadata": {},
   "outputs": [
    {
     "data": {
      "application/vnd.jupyter.widget-view+json": {
       "model_id": "7e2e6fa022c54460810882397b91d5a2",
       "version_major": 2,
       "version_minor": 0
      },
      "text/plain": [
       "  0%|          | 0/20 [00:00<?, ?it/s]"
      ]
     },
     "metadata": {},
     "output_type": "display_data"
    }
   ],
   "source": [
    "results = []\n",
    "for Ts1 in tqdm(Ts[len(results):].reshape(-1,2*16)):\n",
    "    runs = len(Ts1)\n",
    "    res = pool.starmap(do_find_decorrelation_time, #T, N, M, steps\n",
    "            zip(*(Ts1,\n",
    "                  [4]*runs, # N\n",
    "                  [4]*runs, # M\n",
    "                  [10**9]*runs, # steps\n",
    "                  [10]*runs, # steps\n",
    "                  np.random.randint(0,1000000, runs), # seed\n",
    "                  [SimulateMH.BoundaryCondition.NotPoriodic]*runs\n",
    "                      )),\n",
    "#             chunksize=1\n",
    "        )\n",
    "    results+= res"
   ]
  },
  {
   "cell_type": "code",
   "execution_count": 12,
   "id": "7bfd5553",
   "metadata": {},
   "outputs": [],
   "source": [
    "with open(\"autocor-4-1e9-free.pkl\",\"wb\") as f:\n",
    "    pickle.dump((Ts.flatten(), results), f)"
   ]
  },
  {
   "cell_type": "code",
   "execution_count": 8,
   "id": "730af610",
   "metadata": {},
   "outputs": [
    {
     "data": {
      "text/plain": [
       "240"
      ]
     },
     "execution_count": 8,
     "metadata": {},
     "output_type": "execute_result"
    }
   ],
   "source": [
    "len(results)"
   ]
  },
  {
   "cell_type": "code",
   "execution_count": 4,
   "id": "9078300d",
   "metadata": {},
   "outputs": [
    {
     "data": {
      "image/png": "[encoded data removed]",
      "text/plain": [
       "<Figure size 432x288 with 1 Axes>"
      ]
     },
     "metadata": {
      "needs_background": "light"
     },
     "output_type": "display_data"
    }
   ],
   "source": [
    "plt.plot(Ts.flatten()[:len(results)], results, \"+\")\n",
    "plt.gca().set_yscale(\"log\")"
   ]
  },
  {
   "cell_type": "code",
   "execution_count": 14,
   "id": "279cf5b2",
   "metadata": {},
   "outputs": [
    {
     "data": {
      "image/png": "[encoded data removed]",
      "text/plain": [
       "<Figure size 864x576 with 1 Axes>"
      ]
     },
     "metadata": {},
     "output_type": "display_data"
    }
   ],
   "source": [
    "plt.plot(Ts.flatten()[:len(results)], results, \"+\")\n",
    "plt.vlines(x=TTc, ymin=min(results), ymax=max(results))\n",
    "plt.gca().set_yscale(\"log\")\n",
    "plt.minorticks_on()\n",
    "plt.grid(which=\"both\")\n"
   ]
  },
  {
   "cell_type": "code",
   "execution_count": 5,
   "id": "770952bc",
   "metadata": {},
   "outputs": [],
   "source": []
  },
  {
   "cell_type": "code",
   "execution_count": null,
   "id": "0dcc9343",
   "metadata": {},
   "outputs": [],
   "source": []
  }
 ],
 "metadata": {
  "kernelspec": {
   "display_name": "Python 3",
   "language": "python",
   "name": "python3"
  },
  "language_info": {
   "codemirror_mode": {
    "name": "ipython",
    "version": 3
   },
   "file_extension": ".py",
   "mimetype": "text/x-python",
   "name": "python",
   "nbconvert_exporter": "python",
   "pygments_lexer": "ipython3",
   "version": "3.8.3"
  }
 },
 "nbformat": 4,
 "nbformat_minor": 5
}
