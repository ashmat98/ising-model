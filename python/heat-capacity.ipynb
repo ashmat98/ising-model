{
 "cells": [
  {
   "cell_type": "code",
   "execution_count": 1,
   "id": "accepting-avenue",
   "metadata": {},
   "outputs": [],
   "source": [
    "%config Completer.use_jedi = False\n",
    "\n",
    "from utils import *\n",
    "from parallel import to_run, findpos, find_sigma_e\n",
    "\n",
    "import numpy as np\n",
    "import pandas as pd\n",
    "import pickle\n",
    "from matplotlib import pyplot as plt\n",
    "import importlib\n",
    "from multiprocessing import Pool\n",
    "from tqdm.notebook import tqdm\n",
    "from scipy.optimize import curve_fit\n",
    "\n",
    "from ising_model import SimulateMH\n",
    "\n",
    "from scipy import signal"
   ]
  },
  {
   "cell_type": "raw",
   "id": "progressive-wildlife",
   "metadata": {},
   "source": [
    "%%timeit\n",
    "_,_,Ms, Es, engine = to_run(1, 1_000_000, T=0.1, N=32, M=1, freq=1, \n",
    "                            SEED=15, return_engine=True, \n",
    "                            init=\"random\")"
   ]
  },
  {
   "cell_type": "code",
   "execution_count": 2,
   "id": "facial-yesterday",
   "metadata": {},
   "outputs": [],
   "source": [
    "plt.rcParams[\"figure.facecolor\"] = \"white\"\n",
    "plt.rcParams[\"figure.dpi\"] = 80\n",
    "plt.rcParams[\"figure.figsize\"] = [12,8]"
   ]
  },
  {
   "cell_type": "code",
   "execution_count": 3,
   "id": "critical-shareware",
   "metadata": {},
   "outputs": [],
   "source": [
    "TTc = 2/np.log(1+np.sqrt(2))"
   ]
  },
  {
   "cell_type": "code",
   "execution_count": 4,
   "id": "protective-little",
   "metadata": {},
   "outputs": [],
   "source": [
    "pool = Pool(32)"
   ]
  },
  {
   "cell_type": "code",
   "execution_count": 5,
   "id": "aboriginal-sample",
   "metadata": {},
   "outputs": [],
   "source": [
    "with open(\"dumps/heat-capac-4-44-help.pkl\", \"rb\")as ff:\n",
    "    NtoT = pickle.load(ff)\n",
    "NtoT[2] = 2.51"
   ]
  },
  {
   "cell_type": "code",
   "execution_count": 5,
   "id": "exempt-germany",
   "metadata": {},
   "outputs": [],
   "source": [
    "with open(\"dumps/heat-capac-freebc-help.pkl\", \"rb\")as ff:\n",
    "    NtoT = pickle.load(ff)"
   ]
  },
  {
   "cell_type": "code",
   "execution_count": 16,
   "id": "twenty-independence",
   "metadata": {},
   "outputs": [],
   "source": [
    "Ns = [2]\n",
    "n = Ns[0]\n",
    "eps = 0.004\n",
    "while n < 100:\n",
    "    if abs(NtoT[n] - NtoT[Ns[-1]]) > eps:\n",
    "        Ns.append(n)\n",
    "    n+=1"
   ]
  },
  {
   "cell_type": "code",
   "execution_count": 17,
   "id": "turned-aviation",
   "metadata": {
    "scrolled": false
   },
   "outputs": [
    {
     "name": "stdout",
     "output_type": "stream",
     "text": [
      "44\n"
     ]
    },
    {
     "data": {
      "image/png": "[encoded data removed]",
      "text/plain": [
       "<Figure size 960x640 with 1 Axes>"
      ]
     },
     "metadata": {},
     "output_type": "display_data"
    }
   ],
   "source": [
    "plt.plot(list(NtoT.keys()), list(NtoT.values()), \".\")\n",
    "\n",
    "for n in Ns:\n",
    "    plt.scatter(n, NtoT[n], c=\"r\")\n",
    "    plt.hlines(y = NtoT[n], xmin=0, xmax=n)\n",
    "print(len(Ns))"
   ]
  },
  {
   "cell_type": "code",
   "execution_count": 8,
   "id": "broadband-frontier",
   "metadata": {},
   "outputs": [
    {
     "data": {
      "text/plain": [
       "22.666666666666668"
      ]
     },
     "execution_count": 8,
     "metadata": {},
     "output_type": "execute_result"
    }
   ],
   "source": [
    "34*10/512/60*2048"
   ]
  },
  {
   "cell_type": "code",
   "execution_count": null,
   "id": "limited-database",
   "metadata": {
    "scrolled": true
   },
   "outputs": [
    {
     "data": {
      "application/vnd.jupyter.widget-view+json": {
       "model_id": "2a98328e866a4961bd99545d9bd20da6",
       "version_major": 2,
       "version_minor": 0
      },
      "text/plain": [
       "  0%|          | 0/32 [00:00<?, ?it/s]"
      ]
     },
     "metadata": {},
     "output_type": "display_data"
    },
    {
     "data": {
      "application/vnd.jupyter.widget-view+json": {
       "model_id": "3ed11de8936c4781a17d7a0ff9b00911",
       "version_major": 2,
       "version_minor": 0
      },
      "text/plain": [
       "  0%|          | 0/32 [00:00<?, ?it/s]"
      ]
     },
     "metadata": {},
     "output_type": "display_data"
    },
    {
     "data": {
      "application/vnd.jupyter.widget-view+json": {
       "model_id": "e2c296dbe1bc467886df48b36a1215c4",
       "version_major": 2,
       "version_minor": 0
      },
      "text/plain": [
       "  0%|          | 0/32 [00:00<?, ?it/s]"
      ]
     },
     "metadata": {},
     "output_type": "display_data"
    },
    {
     "data": {
      "application/vnd.jupyter.widget-view+json": {
       "model_id": "948e5528864f46bcad8992d319aa2260",
       "version_major": 2,
       "version_minor": 0
      },
      "text/plain": [
       "  0%|          | 0/32 [00:00<?, ?it/s]"
      ]
     },
     "metadata": {},
     "output_type": "display_data"
    },
    {
     "data": {
      "application/vnd.jupyter.widget-view+json": {
       "model_id": "f2be26587db244119687b1809570a137",
       "version_major": 2,
       "version_minor": 0
      },
      "text/plain": [
       "  0%|          | 0/32 [00:00<?, ?it/s]"
      ]
     },
     "metadata": {},
     "output_type": "display_data"
    },
    {
     "data": {
      "application/vnd.jupyter.widget-view+json": {
       "model_id": "1ef72cdfcd3c4336964756b3d7c50a3e",
       "version_major": 2,
       "version_minor": 0
      },
      "text/plain": [
       "  0%|          | 0/32 [00:00<?, ?it/s]"
      ]
     },
     "metadata": {},
     "output_type": "display_data"
    },
    {
     "data": {
      "application/vnd.jupyter.widget-view+json": {
       "model_id": "91aa55336e904ed3a9a8ab2bceb43232",
       "version_major": 2,
       "version_minor": 0
      },
      "text/plain": [
       "  0%|          | 0/32 [00:00<?, ?it/s]"
      ]
     },
     "metadata": {},
     "output_type": "display_data"
    },
    {
     "data": {
      "application/vnd.jupyter.widget-view+json": {
       "model_id": "62bd93c5e6bf447d977c693e96b809ad",
       "version_major": 2,
       "version_minor": 0
      },
      "text/plain": [
       "  0%|          | 0/32 [00:00<?, ?it/s]"
      ]
     },
     "metadata": {},
     "output_type": "display_data"
    },
    {
     "data": {
      "application/vnd.jupyter.widget-view+json": {
       "model_id": "687ef0b0bafb4a9b8ffad3c3eeec8e25",
       "version_major": 2,
       "version_minor": 0
      },
      "text/plain": [
       "  0%|          | 0/32 [00:00<?, ?it/s]"
      ]
     },
     "metadata": {},
     "output_type": "display_data"
    },
    {
     "data": {
      "application/vnd.jupyter.widget-view+json": {
       "model_id": "8525b440a72f40269b0361bfd204846b",
       "version_major": 2,
       "version_minor": 0
      },
      "text/plain": [
       "  0%|          | 0/32 [00:00<?, ?it/s]"
      ]
     },
     "metadata": {},
     "output_type": "display_data"
    },
    {
     "data": {
      "application/vnd.jupyter.widget-view+json": {
       "model_id": "4c7e360b14f24ce3a4f7e4bb65cbf96b",
       "version_major": 2,
       "version_minor": 0
      },
      "text/plain": [
       "  0%|          | 0/32 [00:00<?, ?it/s]"
      ]
     },
     "metadata": {},
     "output_type": "display_data"
    },
    {
     "data": {
      "application/vnd.jupyter.widget-view+json": {
       "model_id": "fb346488de9f4f8695551fcd9aa01f4b",
       "version_major": 2,
       "version_minor": 0
      },
      "text/plain": [
       "  0%|          | 0/32 [00:00<?, ?it/s]"
      ]
     },
     "metadata": {},
     "output_type": "display_data"
    },
    {
     "data": {
      "application/vnd.jupyter.widget-view+json": {
       "model_id": "3f2ed78c398f456387bb1ffba85872c4",
       "version_major": 2,
       "version_minor": 0
      },
      "text/plain": [
       "  0%|          | 0/32 [00:00<?, ?it/s]"
      ]
     },
     "metadata": {},
     "output_type": "display_data"
    },
    {
     "data": {
      "application/vnd.jupyter.widget-view+json": {
       "model_id": "0ded051f83d4429490c1bf77b7753e56",
       "version_major": 2,
       "version_minor": 0
      },
      "text/plain": [
       "  0%|          | 0/32 [00:00<?, ?it/s]"
      ]
     },
     "metadata": {},
     "output_type": "display_data"
    },
    {
     "data": {
      "application/vnd.jupyter.widget-view+json": {
       "model_id": "2e03caa7a4ea45cca65a8a1eebd541e1",
       "version_major": 2,
       "version_minor": 0
      },
      "text/plain": [
       "  0%|          | 0/32 [00:00<?, ?it/s]"
      ]
     },
     "metadata": {},
     "output_type": "display_data"
    },
    {
     "data": {
      "application/vnd.jupyter.widget-view+json": {
       "model_id": "f9ae3a27d7d140548253c9555d2ee5b9",
       "version_major": 2,
       "version_minor": 0
      },
      "text/plain": [
       "  0%|          | 0/32 [00:00<?, ?it/s]"
      ]
     },
     "metadata": {},
     "output_type": "display_data"
    },
    {
     "data": {
      "application/vnd.jupyter.widget-view+json": {
       "model_id": "073e988f2f7e455a943605838730c0ca",
       "version_major": 2,
       "version_minor": 0
      },
      "text/plain": [
       "  0%|          | 0/32 [00:00<?, ?it/s]"
      ]
     },
     "metadata": {},
     "output_type": "display_data"
    },
    {
     "data": {
      "application/vnd.jupyter.widget-view+json": {
       "model_id": "e331501906b145339e0f74a81b1eb291",
       "version_major": 2,
       "version_minor": 0
      },
      "text/plain": [
       "  0%|          | 0/32 [00:00<?, ?it/s]"
      ]
     },
     "metadata": {},
     "output_type": "display_data"
    },
    {
     "data": {
      "application/vnd.jupyter.widget-view+json": {
       "model_id": "9e7988b9a70644088034be36f4c56bc8",
       "version_major": 2,
       "version_minor": 0
      },
      "text/plain": [
       "  0%|          | 0/32 [00:00<?, ?it/s]"
      ]
     },
     "metadata": {},
     "output_type": "display_data"
    },
    {
     "data": {
      "application/vnd.jupyter.widget-view+json": {
       "model_id": "2b686cc2275c4a779f7777db72034e6a",
       "version_major": 2,
       "version_minor": 0
      },
      "text/plain": [
       "  0%|          | 0/32 [00:00<?, ?it/s]"
      ]
     },
     "metadata": {},
     "output_type": "display_data"
    },
    {
     "data": {
      "application/vnd.jupyter.widget-view+json": {
       "model_id": "3548376ae47e4de18ae5b45191afad45",
       "version_major": 2,
       "version_minor": 0
      },
      "text/plain": [
       "  0%|          | 0/32 [00:00<?, ?it/s]"
      ]
     },
     "metadata": {},
     "output_type": "display_data"
    },
    {
     "data": {
      "application/vnd.jupyter.widget-view+json": {
       "model_id": "436687d2596f458182c13f8196b7fe00",
       "version_major": 2,
       "version_minor": 0
      },
      "text/plain": [
       "  0%|          | 0/32 [00:00<?, ?it/s]"
      ]
     },
     "metadata": {},
     "output_type": "display_data"
    },
    {
     "data": {
      "application/vnd.jupyter.widget-view+json": {
       "model_id": "2f388534abdb4942bac07f15a8f4d24c",
       "version_major": 2,
       "version_minor": 0
      },
      "text/plain": [
       "  0%|          | 0/32 [00:00<?, ?it/s]"
      ]
     },
     "metadata": {},
     "output_type": "display_data"
    },
    {
     "data": {
      "application/vnd.jupyter.widget-view+json": {
       "model_id": "06e7b1798689432ea4266bd5ab8de838",
       "version_major": 2,
       "version_minor": 0
      },
      "text/plain": [
       "  0%|          | 0/32 [00:00<?, ?it/s]"
      ]
     },
     "metadata": {},
     "output_type": "display_data"
    },
    {
     "data": {
      "application/vnd.jupyter.widget-view+json": {
       "model_id": "df22b2b19c2c4d55bf1df446f81db87d",
       "version_major": 2,
       "version_minor": 0
      },
      "text/plain": [
       "  0%|          | 0/32 [00:00<?, ?it/s]"
      ]
     },
     "metadata": {},
     "output_type": "display_data"
    }
   ],
   "source": [
    "results = []\n",
    "for N in Ns:\n",
    "    TcN = NtoT[N]\n",
    "    Ts = np.linspace(TcN-0.1, TcN+0.1, 4096)\n",
    "#     Ts = np.linspace(0.5, 3.5, 10*32*3)\n",
    "    for Ts1 in tqdm(Ts.reshape(32, -1)):\n",
    "        runs = len(Ts1)\n",
    "        res = pool.starmap(find_sigma_e, #T, N,M, steps,freq, SEED\n",
    "                zip(*(Ts1,\n",
    "                      [N]*runs, # N\n",
    "                      [4*10**7]*runs, # steps\n",
    "                      [1]*runs, # freq\n",
    "                      np.random.randint(0,10**8, runs), # seed\n",
    "                      [SimulateMH.BoundaryCondition.NotPoriodic]*runs\n",
    "\n",
    "                          )),\n",
    "    #             chunksize=1\n",
    "            )\n",
    "        results+= res"
   ]
  },
  {
   "cell_type": "raw",
   "id": "future-latex",
   "metadata": {},
   "source": [
    "with open(\"heat-capac-2-96-1e7-4096.pkl\", \"wb\")as f:\n",
    "    pickle.dump(results, f)"
   ]
  },
  {
   "cell_type": "raw",
   "id": "gorgeous-photography",
   "metadata": {},
   "source": [
    "with open(\"heat-capac-2-96-1e7-4096.pkl\", \"rb\") as f:\n",
    "    results = pickle.load(f)"
   ]
  },
  {
   "cell_type": "markdown",
   "id": "flying-fossil",
   "metadata": {},
   "source": [
    "# single"
   ]
  },
  {
   "cell_type": "code",
   "execution_count": 5,
   "id": "applied-raising",
   "metadata": {},
   "outputs": [
    {
     "data": {
      "application/vnd.jupyter.widget-view+json": {
       "model_id": "f06539ce4ba44f3595a0e393d3c85287",
       "version_major": 2,
       "version_minor": 0
      },
      "text/plain": [
       "  0%|          | 0/10 [00:00<?, ?it/s]"
      ]
     },
     "metadata": {},
     "output_type": "display_data"
    }
   ],
   "source": [
    "results = []\n",
    "Ts = np.linspace(0.5, 3.5,10*64)\n",
    "for Ts1 in tqdm(Ts.reshape(10, 64)):\n",
    "    runs = len(Ts1)\n",
    "    res = pool.starmap(find_sigma_e, #T, N,M, steps,freq, SEED\n",
    "              zip(*(Ts1,\n",
    "                      [6]*runs, # N\n",
    "                      [4*10**7]*runs, # steps\n",
    "                      [1]*runs, # freq\n",
    "                      np.random.randint(0,10**8, runs), # seed\n",
    "                      [SimulateMH.BoundaryCondition.NotPoriodic]*runs\n",
    "                          )),\n",
    "    #             chunksize=1\n",
    "            )\n",
    "    results+= res"
   ]
  },
  {
   "cell_type": "code",
   "execution_count": 6,
   "id": "magnetic-influence",
   "metadata": {},
   "outputs": [
    {
     "data": {
      "text/plain": [
       "640"
      ]
     },
     "execution_count": 6,
     "metadata": {},
     "output_type": "execute_result"
    }
   ],
   "source": [
    "len(results)"
   ]
  },
  {
   "cell_type": "raw",
   "id": "incorporate-junior",
   "metadata": {},
   "source": [
    "with open(\"heat-capac-6N-4e7-10000.pkl\", \"wb\")as f:\n",
    "    pickle.dump(results, f)"
   ]
  },
  {
   "cell_type": "code",
   "execution_count": 15,
   "id": "occasional-orchestra",
   "metadata": {},
   "outputs": [],
   "source": [
    "with open(\"heat-capac-6N-4e7-10000.pkl\", \"rb\") as f:\n",
    "    results = pickle.load(f)"
   ]
  },
  {
   "cell_type": "code",
   "execution_count": 16,
   "id": "theoretical-bicycle",
   "metadata": {},
   "outputs": [],
   "source": [
    "df = pd.DataFrame(results, columns=[\"N\", \"temp\", \"len(Es)\", \"pos1\",\"pos2\", \"mean_E\", \"std_E\", \"E^3\", \"E^4\"])\n",
    "df[\"C\"] = df.std_E**2/df.temp**2"
   ]
  },
  {
   "cell_type": "code",
   "execution_count": 13,
   "id": "opposite-sierra",
   "metadata": {},
   "outputs": [],
   "source": [
    "df_free = pd.DataFrame(results_free, columns=[\"N\", \"temp\", \"len(Es)\", \"pos1\",\"pos2\", \"mean_E\", \"std_E\", \"E^3\", \"E^4\"])\n",
    "df_free[\"C\"] = df_free.std_E**2/df_free.temp**2"
   ]
  },
  {
   "cell_type": "code",
   "execution_count": 18,
   "id": "found-aspect",
   "metadata": {},
   "outputs": [
    {
     "data": {
      "text/plain": [
       "<matplotlib.legend.Legend at 0x7fdc7d9c6940>"
      ]
     },
     "execution_count": 18,
     "metadata": {},
     "output_type": "execute_result"
    },
    {
     "data": {
      "image/png": "[encoded data removed]",
      "text/plain": [
       "<Figure size 960x640 with 1 Axes>"
      ]
     },
     "metadata": {},
     "output_type": "display_data"
    }
   ],
   "source": [
    "plt.plot(df_free.temp, df_free.C, label=\"free BC\")\n",
    "plt.plot(df.temp, df.C, label=\"periodic BC\")\n",
    "\n",
    "plt.vlines(x=TTc, ymin=plt.ylim()[0], ymax=plt.ylim()[1])\n",
    "plt.xlabel(\"T\")\n",
    "plt.ylabel(\"C\")\n",
    "plt.legend()\n"
   ]
  },
  {
   "cell_type": "code",
   "execution_count": null,
   "id": "historic-synthesis",
   "metadata": {},
   "outputs": [],
   "source": []
  }
 ],
 "metadata": {
  "kernelspec": {
   "display_name": "Python 3",
   "language": "python",
   "name": "python3"
  },
  "language_info": {
   "codemirror_mode": {
    "name": "ipython",
    "version": 3
   },
   "file_extension": ".py",
   "mimetype": "text/x-python",
   "name": "python",
   "nbconvert_exporter": "python",
   "pygments_lexer": "ipython3",
   "version": "3.8.3"
  }
 },
 "nbformat": 4,
 "nbformat_minor": 5
}
