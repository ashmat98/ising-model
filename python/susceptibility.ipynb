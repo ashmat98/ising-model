{
 "cells": [
  {
   "cell_type": "code",
   "execution_count": 1,
   "metadata": {},
   "outputs": [],
   "source": [
    "%config Completer.use_jedi = False\n",
    "\n",
    "from utils import *\n",
    "from parallel import to_run, findpos, find_sigma_em\n",
    "\n",
    "import numpy as np\n",
    "import pandas as pd\n",
    "import pickle\n",
    "from matplotlib import pyplot as plt\n",
    "import importlib\n",
    "from multiprocessing import Pool\n",
    "from tqdm.notebook import tqdm\n",
    "from scipy.optimize import curve_fit\n",
    "\n",
    "from ising_model import SimulateMH\n",
    "\n",
    "from scipy import signal"
   ]
  },
  {
   "cell_type": "raw",
   "metadata": {},
   "source": [
    "%%timeit\n",
    "_,_,Ms, Es, engine = to_run(1, 1_000_000, T=0.1, N=32, M=1, freq=1, \n",
    "                            SEED=15, return_engine=True, \n",
    "                            init=\"random\")"
   ]
  },
  {
   "cell_type": "code",
   "execution_count": 2,
   "metadata": {},
   "outputs": [],
   "source": [
    "plt.rcParams[\"figure.facecolor\"] = \"white\"\n",
    "plt.rcParams[\"figure.dpi\"] = 80\n",
    "plt.rcParams[\"figure.figsize\"] = [12,8]"
   ]
  },
  {
   "cell_type": "code",
   "execution_count": 4,
   "metadata": {},
   "outputs": [],
   "source": [
    "pool = Pool(4)"
   ]
  },
  {
   "cell_type": "raw",
   "metadata": {},
   "source": [
    "with open(\"dumps/heat-capac-4-44-help.pkl\", \"rb\")as ff:\n",
    "    NtoT = pickle.load(ff)\n",
    "NtoT[2] = 2.51"
   ]
  },
  {
   "cell_type": "raw",
   "metadata": {},
   "source": [
    "with open(\"dumps/heat-capac-freebc-help.pkl\", \"rb\")as ff:\n",
    "    NtoT = pickle.load(ff)"
   ]
  },
  {
   "cell_type": "code",
   "execution_count": null,
   "metadata": {
    "scrolled": true
   },
   "outputs": [
    {
     "data": {
      "application/vnd.jupyter.widget-view+json": {
       "model_id": "0da4b5b39ede44fb9443371c142b7df7",
       "version_major": 2,
       "version_minor": 0
      },
      "text/plain": [
       "HBox(children=(FloatProgress(value=0.0, max=320.0), HTML(value='')))"
      ]
     },
     "metadata": {},
     "output_type": "display_data"
    }
   ],
   "source": [
    "results = []\n",
    "N = 32\n",
    "Ts = np.linspace(0, 5, 32*32*10)\n",
    "for Ts1 in tqdm(Ts.reshape(32*10, -1)):\n",
    "    runs = len(Ts1)\n",
    "    res = pool.starmap(find_sigma_em, #T, N,M, steps,freq, SEED\n",
    "            zip(*(Ts1,\n",
    "                  [N]*runs, # N\n",
    "                  [4*10**7]*runs, # steps\n",
    "                  [1]*runs, # freq\n",
    "                  np.random.randint(0,10**8, runs), # seed\n",
    "                  [SimulateMH.BoundaryCondition.NotPoriodic]*runs\n",
    "\n",
    "                      )),\n",
    "#             chunksize=1\n",
    "        )\n",
    "    results+= res"
   ]
  },
  {
   "cell_type": "code",
   "execution_count": 7,
   "metadata": {},
   "outputs": [],
   "source": [
    "with open(\"susceptibility-N32-4e7-v2.pkl\", \"wb\")as f:\n",
    "    pickle.dump(results, f)"
   ]
  },
  {
   "cell_type": "code",
   "execution_count": null,
   "metadata": {},
   "outputs": [],
   "source": []
  }
 ],
 "metadata": {
  "kernelspec": {
   "display_name": "Python 3",
   "language": "python",
   "name": "python3"
  },
  "language_info": {
   "codemirror_mode": {
    "name": "ipython",
    "version": 3
   },
   "file_extension": ".py",
   "mimetype": "text/x-python",
   "name": "python",
   "nbconvert_exporter": "python",
   "pygments_lexer": "ipython3",
   "version": "3.7.3"
  }
 },
 "nbformat": 4,
 "nbformat_minor": 5
}
